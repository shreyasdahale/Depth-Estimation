{
 "cells": [
  {
   "cell_type": "code",
   "execution_count": 1,
   "id": "72c57408",
   "metadata": {
    "execution": {
     "iopub.execute_input": "2024-12-14T11:07:30.972805Z",
     "iopub.status.busy": "2024-12-14T11:07:30.972503Z",
     "iopub.status.idle": "2024-12-14T11:07:36.819105Z",
     "shell.execute_reply": "2024-12-14T11:07:36.818418Z"
    },
    "papermill": {
     "duration": 5.855071,
     "end_time": "2024-12-14T11:07:36.821084",
     "exception": false,
     "start_time": "2024-12-14T11:07:30.966013",
     "status": "completed"
    },
    "tags": []
   },
   "outputs": [],
   "source": [
    "import numpy as np\n",
    "import os\n",
    "import tqdm\n",
    "import torch\n",
    "from PIL import Image\n",
    "import cv2\n",
    "import matplotlib.pyplot as plt\n",
    "import torch\n",
    "from torch.utils.data import DataLoader\n",
    "from torchvision import transforms\n",
    "from datasets import Dataset\n",
    "import torch.nn as nn"
   ]
  },
  {
   "cell_type": "code",
   "execution_count": 2,
   "id": "75561d33",
   "metadata": {
    "execution": {
     "iopub.execute_input": "2024-12-14T11:07:36.832104Z",
     "iopub.status.busy": "2024-12-14T11:07:36.831689Z",
     "iopub.status.idle": "2024-12-14T11:07:36.890819Z",
     "shell.execute_reply": "2024-12-14T11:07:36.890072Z"
    },
    "papermill": {
     "duration": 0.06687,
     "end_time": "2024-12-14T11:07:36.892474",
     "exception": false,
     "start_time": "2024-12-14T11:07:36.825604",
     "status": "completed"
    },
    "tags": []
   },
   "outputs": [],
   "source": [
    "device = torch.device(\"cuda\" if torch.cuda.is_available() else \"cpu\")"
   ]
  },
  {
   "cell_type": "code",
   "execution_count": 3,
   "id": "a0fca9b9",
   "metadata": {
    "execution": {
     "iopub.execute_input": "2024-12-14T11:07:36.902067Z",
     "iopub.status.busy": "2024-12-14T11:07:36.901772Z",
     "iopub.status.idle": "2024-12-14T11:07:37.041538Z",
     "shell.execute_reply": "2024-12-14T11:07:37.040818Z"
    },
    "papermill": {
     "duration": 0.146628,
     "end_time": "2024-12-14T11:07:37.043470",
     "exception": false,
     "start_time": "2024-12-14T11:07:36.896842",
     "status": "completed"
    },
    "tags": []
   },
   "outputs": [],
   "source": [
    "image_dir = '/kaggle/input/task-3/depth-estimation-challenge/competition-data/competition-data/training/images'\n",
    "depths_dir = '/kaggle/input/task-3/depth-estimation-challenge/competition-data/competition-data/training/depths'\n",
    "\n",
    "image_files = sorted(os.listdir(image_dir))\n",
    "depths_files = sorted(os.listdir(depths_dir))"
   ]
  },
  {
   "cell_type": "code",
   "execution_count": 4,
   "id": "8aaa7ab2",
   "metadata": {
    "execution": {
     "iopub.execute_input": "2024-12-14T11:07:37.053150Z",
     "iopub.status.busy": "2024-12-14T11:07:37.052828Z",
     "iopub.status.idle": "2024-12-14T11:09:32.681614Z",
     "shell.execute_reply": "2024-12-14T11:09:32.680615Z"
    },
    "papermill": {
     "duration": 115.636125,
     "end_time": "2024-12-14T11:09:32.684046",
     "exception": false,
     "start_time": "2024-12-14T11:07:37.047921",
     "status": "completed"
    },
    "tags": []
   },
   "outputs": [],
   "source": [
    "imgs = []\n",
    "depths = []\n",
    "\n",
    "for i in range(len(os.listdir('/kaggle/input/task-3/depth-estimation-challenge/competition-data/competition-data/training/images'))):\n",
    "    imgs.append(cv2.imread(os.path.join(image_dir, image_files[i])))\n",
    "    depths.append(cv2.imread(os.path.join(depths_dir, depths_files[i]), cv2.IMREAD_GRAYSCALE))"
   ]
  },
  {
   "cell_type": "code",
   "execution_count": 5,
   "id": "8e99639d",
   "metadata": {
    "execution": {
     "iopub.execute_input": "2024-12-14T11:09:32.694724Z",
     "iopub.status.busy": "2024-12-14T11:09:32.694422Z",
     "iopub.status.idle": "2024-12-14T11:09:52.017770Z",
     "shell.execute_reply": "2024-12-14T11:09:52.017058Z"
    },
    "papermill": {
     "duration": 19.330605,
     "end_time": "2024-12-14T11:09:52.019783",
     "exception": false,
     "start_time": "2024-12-14T11:09:32.689178",
     "status": "completed"
    },
    "tags": []
   },
   "outputs": [],
   "source": [
    "imgs_val_dir = '/kaggle/input/task-3/depth-estimation-challenge/competition-data/competition-data/validation/images'\n",
    "depths_val_dir = '/kaggle/input/task-3/depth-estimation-challenge/competition-data/competition-data/validation/depths'\n",
    "\n",
    "image_files_val = sorted(os.listdir(imgs_val_dir))\n",
    "depths_files_val = sorted(os.listdir(depths_val_dir))\n",
    "\n",
    "imgs_val = []\n",
    "depths_val = []\n",
    "\n",
    "for i in range(len(os.listdir('/kaggle/input/task-3/depth-estimation-challenge/competition-data/competition-data/validation/images'))):\n",
    "    imgs_val.append(cv2.imread(os.path.join(imgs_val_dir, image_files_val[i])))\n",
    "    depths_val.append(cv2.imread(os.path.join(depths_val_dir, depths_files_val[i]), cv2.IMREAD_GRAYSCALE))"
   ]
  },
  {
   "cell_type": "code",
   "execution_count": 6,
   "id": "e51a80f5",
   "metadata": {
    "execution": {
     "iopub.execute_input": "2024-12-14T11:09:52.029464Z",
     "iopub.status.busy": "2024-12-14T11:09:52.029164Z",
     "iopub.status.idle": "2024-12-14T11:09:52.550911Z",
     "shell.execute_reply": "2024-12-14T11:09:52.550232Z"
    },
    "papermill": {
     "duration": 0.528853,
     "end_time": "2024-12-14T11:09:52.552966",
     "exception": false,
     "start_time": "2024-12-14T11:09:52.024113",
     "status": "completed"
    },
    "tags": []
   },
   "outputs": [],
   "source": [
    "imgs = np.array(imgs)\n",
    "depths = np.array(depths)"
   ]
  },
  {
   "cell_type": "code",
   "execution_count": 7,
   "id": "2c807d89",
   "metadata": {
    "execution": {
     "iopub.execute_input": "2024-12-14T11:09:52.562713Z",
     "iopub.status.busy": "2024-12-14T11:09:52.562425Z",
     "iopub.status.idle": "2024-12-14T11:09:52.638392Z",
     "shell.execute_reply": "2024-12-14T11:09:52.637407Z"
    },
    "papermill": {
     "duration": 0.083083,
     "end_time": "2024-12-14T11:09:52.640522",
     "exception": false,
     "start_time": "2024-12-14T11:09:52.557439",
     "status": "completed"
    },
    "tags": []
   },
   "outputs": [],
   "source": [
    "imgs_val = np.array(imgs_val)\n",
    "depths_val = np.array(depths_val)"
   ]
  },
  {
   "cell_type": "code",
   "execution_count": 8,
   "id": "217387e4",
   "metadata": {
    "execution": {
     "iopub.execute_input": "2024-12-14T11:09:52.650220Z",
     "iopub.status.busy": "2024-12-14T11:09:52.649908Z",
     "iopub.status.idle": "2024-12-14T11:09:52.653739Z",
     "shell.execute_reply": "2024-12-14T11:09:52.653059Z"
    },
    "papermill": {
     "duration": 0.010452,
     "end_time": "2024-12-14T11:09:52.655267",
     "exception": false,
     "start_time": "2024-12-14T11:09:52.644815",
     "status": "completed"
    },
    "tags": []
   },
   "outputs": [],
   "source": [
    "depths_val = depths_val[:, :, :, np.newaxis]"
   ]
  },
  {
   "cell_type": "code",
   "execution_count": 9,
   "id": "24faf07c",
   "metadata": {
    "execution": {
     "iopub.execute_input": "2024-12-14T11:09:52.664609Z",
     "iopub.status.busy": "2024-12-14T11:09:52.664367Z",
     "iopub.status.idle": "2024-12-14T11:09:52.668020Z",
     "shell.execute_reply": "2024-12-14T11:09:52.667346Z"
    },
    "papermill": {
     "duration": 0.01018,
     "end_time": "2024-12-14T11:09:52.669582",
     "exception": false,
     "start_time": "2024-12-14T11:09:52.659402",
     "status": "completed"
    },
    "tags": []
   },
   "outputs": [],
   "source": [
    "depths = depths[:, :, :, np.newaxis]"
   ]
  },
  {
   "cell_type": "code",
   "execution_count": 10,
   "id": "17db92d8",
   "metadata": {
    "execution": {
     "iopub.execute_input": "2024-12-14T11:09:52.678577Z",
     "iopub.status.busy": "2024-12-14T11:09:52.678351Z",
     "iopub.status.idle": "2024-12-14T11:09:57.623706Z",
     "shell.execute_reply": "2024-12-14T11:09:57.622732Z"
    },
    "papermill": {
     "duration": 4.952889,
     "end_time": "2024-12-14T11:09:57.626562",
     "exception": false,
     "start_time": "2024-12-14T11:09:52.673673",
     "status": "completed"
    },
    "tags": []
   },
   "outputs": [],
   "source": [
    "data = [(transforms.ToTensor()(imgs[i]), transforms.ToTensor()(depths[i])) for i in range(len(imgs))]"
   ]
  },
  {
   "cell_type": "code",
   "execution_count": 11,
   "id": "a6d8d18f",
   "metadata": {
    "execution": {
     "iopub.execute_input": "2024-12-14T11:09:57.640090Z",
     "iopub.status.busy": "2024-12-14T11:09:57.639650Z",
     "iopub.status.idle": "2024-12-14T11:09:58.557345Z",
     "shell.execute_reply": "2024-12-14T11:09:58.556365Z"
    },
    "papermill": {
     "duration": 0.926771,
     "end_time": "2024-12-14T11:09:58.559445",
     "exception": false,
     "start_time": "2024-12-14T11:09:57.632674",
     "status": "completed"
    },
    "tags": []
   },
   "outputs": [],
   "source": [
    "data_val = [(transforms.ToTensor()(imgs_val[i]), transforms.ToTensor()(depths_val[i])) for i in range(len(imgs_val))]"
   ]
  },
  {
   "cell_type": "code",
   "execution_count": 12,
   "id": "b52d7f6d",
   "metadata": {
    "execution": {
     "iopub.execute_input": "2024-12-14T11:09:58.569394Z",
     "iopub.status.busy": "2024-12-14T11:09:58.569026Z",
     "iopub.status.idle": "2024-12-14T11:09:58.573467Z",
     "shell.execute_reply": "2024-12-14T11:09:58.572530Z"
    },
    "papermill": {
     "duration": 0.011193,
     "end_time": "2024-12-14T11:09:58.575068",
     "exception": false,
     "start_time": "2024-12-14T11:09:58.563875",
     "status": "completed"
    },
    "tags": []
   },
   "outputs": [],
   "source": [
    "train = DataLoader(data, batch_size=32, shuffle=True)\n",
    "val = DataLoader(data_val, batch_size=4, shuffle=True)"
   ]
  },
  {
   "cell_type": "code",
   "execution_count": 13,
   "id": "05653df1",
   "metadata": {
    "execution": {
     "iopub.execute_input": "2024-12-14T11:09:58.584591Z",
     "iopub.status.busy": "2024-12-14T11:09:58.584330Z",
     "iopub.status.idle": "2024-12-14T11:09:58.594214Z",
     "shell.execute_reply": "2024-12-14T11:09:58.593322Z"
    },
    "papermill": {
     "duration": 0.016667,
     "end_time": "2024-12-14T11:09:58.595815",
     "exception": false,
     "start_time": "2024-12-14T11:09:58.579148",
     "status": "completed"
    },
    "tags": []
   },
   "outputs": [],
   "source": [
    "class UNet(nn.Module):\n",
    "    def __init__(self):\n",
    "        super(UNet, self).__init__()\n",
    "        \n",
    "        # encoding\n",
    "        self.enc1 = self.conv_block(3, 64)\n",
    "        self.enc2 = self.conv_block(64, 128)\n",
    "        self.enc3 = self.conv_block(128, 256)\n",
    "        self.enc4 = self.conv_block(256, 512)\n",
    "        \n",
    "        # Bottleneck\n",
    "        self.bottleneck = self.conv_block(512, 1024)\n",
    "        \n",
    "        #  decoding\n",
    "        self.upconv4 = nn.ConvTranspose2d(1024, 512, kernel_size=2, stride=2)\n",
    "        self.dec4 = self.conv_block(1024, 512)\n",
    "        self.upconv3 = nn.ConvTranspose2d(512, 256, kernel_size=2, stride=2)\n",
    "        self.dec3 = self.conv_block(512, 256)\n",
    "        self.upconv2 = nn.ConvTranspose2d(256, 128, kernel_size=2, stride=2)\n",
    "        self.dec2 = self.conv_block(256, 128)\n",
    "        self.upconv1 = nn.ConvTranspose2d(128, 64, kernel_size=2, stride=2)\n",
    "        self.dec1 = self.conv_block(128, 64)\n",
    "        self.d = nn.Conv2d(64, 1, kernel_size=1)\n",
    "    \n",
    "    def conv_block(self, in_channels, out_channels):\n",
    "        return nn.Sequential(\n",
    "            nn.Conv2d(in_channels, out_channels, kernel_size=3, padding=1),\n",
    "            nn.ReLU(inplace=True),\n",
    "            nn.Conv2d(out_channels, out_channels, kernel_size=3, padding=1),\n",
    "            nn.ReLU(inplace=True)\n",
    "        )\n",
    "    \n",
    "    def forward(self, x):\n",
    "        enc1 = self.enc1(x)\n",
    "        enc2 = self.enc2(nn.MaxPool2d(2)(enc1))\n",
    "        enc3 = self.enc3(nn.MaxPool2d(2)(enc2))\n",
    "        enc4 = self.enc4(nn.MaxPool2d(2)(enc3))\n",
    "        \n",
    "        bottleneck = self.bottleneck(nn.MaxPool2d(2)(enc4))\n",
    "        \n",
    "        dec4 = self.upconv4(bottleneck)\n",
    "        dec4 = torch.cat((dec4, enc4), dim=1)\n",
    "        dec4 = self.dec4(dec4)\n",
    "        \n",
    "        dec3 = self.upconv3(dec4)\n",
    "        dec3 = torch.cat((dec3, enc3), dim=1)\n",
    "        dec3 = self.dec3(dec3)\n",
    "        \n",
    "        dec2 = self.upconv2(dec3)\n",
    "        dec2 = torch.cat((dec2, enc2), dim=1)\n",
    "        dec2 = self.dec2(dec2)\n",
    "        \n",
    "        dec1 = self.upconv1(dec2)\n",
    "        dec1 = torch.cat((dec1, enc1), dim=1)\n",
    "        dec1 = self.dec1(dec1)\n",
    "        \n",
    "        return self.d(dec1)"
   ]
  },
  {
   "cell_type": "code",
   "execution_count": 14,
   "id": "61aaa2d5",
   "metadata": {
    "execution": {
     "iopub.execute_input": "2024-12-14T11:09:58.604984Z",
     "iopub.status.busy": "2024-12-14T11:09:58.604739Z",
     "iopub.status.idle": "2024-12-14T11:09:59.073425Z",
     "shell.execute_reply": "2024-12-14T11:09:59.072441Z"
    },
    "papermill": {
     "duration": 0.475408,
     "end_time": "2024-12-14T11:09:59.075431",
     "exception": false,
     "start_time": "2024-12-14T11:09:58.600023",
     "status": "completed"
    },
    "tags": []
   },
   "outputs": [],
   "source": [
    "model = UNet().to(device)"
   ]
  },
  {
   "cell_type": "code",
   "execution_count": 15,
   "id": "253a6ea4",
   "metadata": {
    "execution": {
     "iopub.execute_input": "2024-12-14T11:09:59.085263Z",
     "iopub.status.busy": "2024-12-14T11:09:59.084769Z",
     "iopub.status.idle": "2024-12-14T11:09:59.089623Z",
     "shell.execute_reply": "2024-12-14T11:09:59.088807Z"
    },
    "papermill": {
     "duration": 0.011412,
     "end_time": "2024-12-14T11:09:59.091212",
     "exception": false,
     "start_time": "2024-12-14T11:09:59.079800",
     "status": "completed"
    },
    "tags": []
   },
   "outputs": [],
   "source": [
    "criterion = nn.MSELoss()\n",
    "optimizer = torch.optim.Adam(model.parameters(), lr=0.001)\n",
    "scheduler = torch.optim.lr_scheduler.StepLR(optimizer, step_size=10, gamma=0.5)"
   ]
  },
  {
   "cell_type": "code",
   "execution_count": 16,
   "id": "2b2b9353",
   "metadata": {
    "execution": {
     "iopub.execute_input": "2024-12-14T11:09:59.100336Z",
     "iopub.status.busy": "2024-12-14T11:09:59.100022Z",
     "iopub.status.idle": "2024-12-14T14:08:19.148183Z",
     "shell.execute_reply": "2024-12-14T14:08:19.147303Z"
    },
    "papermill": {
     "duration": 10700.062926,
     "end_time": "2024-12-14T14:08:19.158223",
     "exception": false,
     "start_time": "2024-12-14T11:09:59.095297",
     "status": "completed"
    },
    "tags": []
   },
   "outputs": [
    {
     "name": "stdout",
     "output_type": "stream",
     "text": [
      "Epoch 1/70, Train Loss: 0.0610, Validation Loss: 0.0532\n",
      "Validation loss improved from inf to 0.0532. Saving best weights.\n",
      "Epoch 2/70, Train Loss: 0.2861, Validation Loss: 0.0439\n",
      "Validation loss improved from 0.0532 to 0.0439. Saving best weights.\n",
      "Epoch 3/70, Train Loss: 0.0274, Validation Loss: 0.0203\n",
      "Validation loss improved from 0.0439 to 0.0203. Saving best weights.\n",
      "Epoch 4/70, Train Loss: 0.0186, Validation Loss: 0.0175\n",
      "Validation loss improved from 0.0203 to 0.0175. Saving best weights.\n",
      "Epoch 5/70, Train Loss: 0.0170, Validation Loss: 0.0165\n",
      "Validation loss improved from 0.0175 to 0.0165. Saving best weights.\n",
      "Epoch 6/70, Train Loss: 0.0163, Validation Loss: 0.0155\n",
      "Validation loss improved from 0.0165 to 0.0155. Saving best weights.\n",
      "Epoch 7/70, Train Loss: 0.0152, Validation Loss: 0.0155\n",
      "Validation loss improved from 0.0155 to 0.0155. Saving best weights.\n",
      "Epoch 8/70, Train Loss: 0.0145, Validation Loss: 0.0141\n",
      "Validation loss improved from 0.0155 to 0.0141. Saving best weights.\n",
      "Epoch 9/70, Train Loss: 0.0143, Validation Loss: 0.0140\n",
      "Validation loss improved from 0.0141 to 0.0140. Saving best weights.\n",
      "Epoch 10/70, Train Loss: 0.0137, Validation Loss: 0.0135\n",
      "Validation loss improved from 0.0140 to 0.0135. Saving best weights.\n",
      "Epoch 11/70, Train Loss: 0.0131, Validation Loss: 0.0127\n",
      "Validation loss improved from 0.0135 to 0.0127. Saving best weights.\n",
      "Epoch 12/70, Train Loss: 0.0128, Validation Loss: 0.0125\n",
      "Validation loss improved from 0.0127 to 0.0125. Saving best weights.\n",
      "Epoch 13/70, Train Loss: 0.0126, Validation Loss: 0.0126\n",
      "No improvement for 1 epochs.\n",
      "Epoch 14/70, Train Loss: 0.0124, Validation Loss: 0.0120\n",
      "Validation loss improved from 0.0125 to 0.0120. Saving best weights.\n",
      "Epoch 15/70, Train Loss: 0.0122, Validation Loss: 0.0127\n",
      "No improvement for 1 epochs.\n",
      "Epoch 16/70, Train Loss: 0.0121, Validation Loss: 0.0118\n",
      "Validation loss improved from 0.0120 to 0.0118. Saving best weights.\n",
      "Epoch 17/70, Train Loss: 0.0118, Validation Loss: 0.0115\n",
      "Validation loss improved from 0.0118 to 0.0115. Saving best weights.\n",
      "Epoch 18/70, Train Loss: 0.0116, Validation Loss: 0.0113\n",
      "Validation loss improved from 0.0115 to 0.0113. Saving best weights.\n",
      "Epoch 19/70, Train Loss: 0.0115, Validation Loss: 0.0120\n",
      "No improvement for 1 epochs.\n",
      "Epoch 20/70, Train Loss: 0.0112, Validation Loss: 0.0113\n",
      "Validation loss improved from 0.0113 to 0.0113. Saving best weights.\n",
      "Epoch 21/70, Train Loss: 0.0106, Validation Loss: 0.0106\n",
      "Validation loss improved from 0.0113 to 0.0106. Saving best weights.\n",
      "Epoch 22/70, Train Loss: 0.0105, Validation Loss: 0.0105\n",
      "Validation loss improved from 0.0106 to 0.0105. Saving best weights.\n",
      "Epoch 23/70, Train Loss: 0.0104, Validation Loss: 0.0103\n",
      "Validation loss improved from 0.0105 to 0.0103. Saving best weights.\n",
      "Epoch 24/70, Train Loss: 0.0103, Validation Loss: 0.0107\n",
      "No improvement for 1 epochs.\n",
      "Epoch 25/70, Train Loss: 0.0101, Validation Loss: 0.0103\n",
      "Validation loss improved from 0.0103 to 0.0103. Saving best weights.\n",
      "Epoch 26/70, Train Loss: 0.0099, Validation Loss: 0.0101\n",
      "Validation loss improved from 0.0103 to 0.0101. Saving best weights.\n",
      "Epoch 27/70, Train Loss: 0.0097, Validation Loss: 0.0099\n",
      "Validation loss improved from 0.0101 to 0.0099. Saving best weights.\n",
      "Epoch 28/70, Train Loss: 0.0096, Validation Loss: 0.0100\n",
      "No improvement for 1 epochs.\n",
      "Epoch 29/70, Train Loss: 0.0095, Validation Loss: 0.0096\n",
      "Validation loss improved from 0.0099 to 0.0096. Saving best weights.\n",
      "Epoch 30/70, Train Loss: 0.0093, Validation Loss: 0.0097\n",
      "No improvement for 1 epochs.\n",
      "Epoch 31/70, Train Loss: 0.0089, Validation Loss: 0.0094\n",
      "Validation loss improved from 0.0096 to 0.0094. Saving best weights.\n",
      "Epoch 32/70, Train Loss: 0.0089, Validation Loss: 0.0094\n",
      "Validation loss improved from 0.0094 to 0.0094. Saving best weights.\n",
      "Epoch 33/70, Train Loss: 0.0088, Validation Loss: 0.0095\n",
      "No improvement for 1 epochs.\n",
      "Epoch 34/70, Train Loss: 0.0086, Validation Loss: 0.0092\n",
      "Validation loss improved from 0.0094 to 0.0092. Saving best weights.\n",
      "Epoch 35/70, Train Loss: 0.0086, Validation Loss: 0.0098\n",
      "No improvement for 1 epochs.\n",
      "Epoch 36/70, Train Loss: 0.0084, Validation Loss: 0.0090\n",
      "Validation loss improved from 0.0092 to 0.0090. Saving best weights.\n",
      "Epoch 37/70, Train Loss: 0.0083, Validation Loss: 0.0090\n",
      "Validation loss improved from 0.0090 to 0.0090. Saving best weights.\n",
      "Epoch 38/70, Train Loss: 0.0082, Validation Loss: 0.0089\n",
      "Validation loss improved from 0.0090 to 0.0089. Saving best weights.\n",
      "Epoch 39/70, Train Loss: 0.0082, Validation Loss: 0.0090\n",
      "No improvement for 1 epochs.\n",
      "Epoch 40/70, Train Loss: 0.0080, Validation Loss: 0.0089\n",
      "Validation loss improved from 0.0089 to 0.0089. Saving best weights.\n",
      "Epoch 41/70, Train Loss: 0.0077, Validation Loss: 0.0087\n",
      "Validation loss improved from 0.0089 to 0.0087. Saving best weights.\n",
      "Epoch 42/70, Train Loss: 0.0078, Validation Loss: 0.0088\n",
      "No improvement for 1 epochs.\n",
      "Epoch 43/70, Train Loss: 0.0076, Validation Loss: 0.0086\n",
      "Validation loss improved from 0.0087 to 0.0086. Saving best weights.\n",
      "Epoch 44/70, Train Loss: 0.0075, Validation Loss: 0.0086\n",
      "Validation loss improved from 0.0086 to 0.0086. Saving best weights.\n",
      "Epoch 45/70, Train Loss: 0.0075, Validation Loss: 0.0085\n",
      "Validation loss improved from 0.0086 to 0.0085. Saving best weights.\n",
      "Epoch 46/70, Train Loss: 0.0074, Validation Loss: 0.0085\n",
      "Validation loss improved from 0.0085 to 0.0085. Saving best weights.\n",
      "Epoch 47/70, Train Loss: 0.0074, Validation Loss: 0.0085\n",
      "Validation loss improved from 0.0085 to 0.0085. Saving best weights.\n",
      "Epoch 48/70, Train Loss: 0.0074, Validation Loss: 0.0084\n",
      "Validation loss improved from 0.0085 to 0.0084. Saving best weights.\n",
      "Epoch 49/70, Train Loss: 0.0072, Validation Loss: 0.0084\n",
      "Validation loss improved from 0.0084 to 0.0084. Saving best weights.\n",
      "Epoch 50/70, Train Loss: 0.0072, Validation Loss: 0.0084\n",
      "Validation loss improved from 0.0084 to 0.0084. Saving best weights.\n",
      "Epoch 51/70, Train Loss: 0.0070, Validation Loss: 0.0083\n",
      "Validation loss improved from 0.0084 to 0.0083. Saving best weights.\n",
      "Epoch 52/70, Train Loss: 0.0069, Validation Loss: 0.0084\n",
      "No improvement for 1 epochs.\n",
      "Epoch 53/70, Train Loss: 0.0069, Validation Loss: 0.0083\n",
      "Validation loss improved from 0.0083 to 0.0083. Saving best weights.\n",
      "Epoch 54/70, Train Loss: 0.0068, Validation Loss: 0.0083\n",
      "No improvement for 1 epochs.\n",
      "Epoch 55/70, Train Loss: 0.0068, Validation Loss: 0.0083\n",
      "No improvement for 2 epochs.\n",
      "Epoch 56/70, Train Loss: 0.0068, Validation Loss: 0.0083\n",
      "No improvement for 3 epochs.\n",
      "Epoch 57/70, Train Loss: 0.0067, Validation Loss: 0.0083\n",
      "No improvement for 4 epochs.\n",
      "Epoch 58/70, Train Loss: 0.0067, Validation Loss: 0.0083\n",
      "Validation loss improved from 0.0083 to 0.0083. Saving best weights.\n",
      "Epoch 59/70, Train Loss: 0.0066, Validation Loss: 0.0082\n",
      "Validation loss improved from 0.0083 to 0.0082. Saving best weights.\n",
      "Epoch 60/70, Train Loss: 0.0066, Validation Loss: 0.0082\n",
      "Validation loss improved from 0.0082 to 0.0082. Saving best weights.\n",
      "Epoch 61/70, Train Loss: 0.0065, Validation Loss: 0.0082\n",
      "No improvement for 1 epochs.\n",
      "Epoch 62/70, Train Loss: 0.0065, Validation Loss: 0.0082\n",
      "No improvement for 2 epochs.\n",
      "Epoch 63/70, Train Loss: 0.0064, Validation Loss: 0.0082\n",
      "Validation loss improved from 0.0082 to 0.0082. Saving best weights.\n",
      "Epoch 64/70, Train Loss: 0.0064, Validation Loss: 0.0081\n",
      "Validation loss improved from 0.0082 to 0.0081. Saving best weights.\n",
      "Epoch 65/70, Train Loss: 0.0064, Validation Loss: 0.0082\n",
      "No improvement for 1 epochs.\n",
      "Epoch 66/70, Train Loss: 0.0064, Validation Loss: 0.0081\n",
      "No improvement for 2 epochs.\n",
      "Epoch 67/70, Train Loss: 0.0064, Validation Loss: 0.0081\n",
      "No improvement for 3 epochs.\n",
      "Epoch 68/70, Train Loss: 0.0063, Validation Loss: 0.0081\n",
      "No improvement for 4 epochs.\n",
      "Epoch 69/70, Train Loss: 0.0063, Validation Loss: 0.0082\n",
      "No improvement for 5 epochs.\n",
      "Early stopping due to no improvement in validation loss.\n"
     ]
    },
    {
     "data": {
      "text/plain": [
       "<All keys matched successfully>"
      ]
     },
     "execution_count": 16,
     "metadata": {},
     "output_type": "execute_result"
    }
   ],
   "source": [
    "import copy\n",
    "import torch.optim as optim\n",
    "\n",
    "num_epochs = 70\n",
    "best_val_loss = float('inf')\n",
    "patience = 5\n",
    "patience_counter = 0\n",
    "best_model_weights = copy.deepcopy(model.state_dict())\n",
    "\n",
    "for epoch in range(num_epochs):\n",
    "    model.train()\n",
    "    train_loss = 0.0\n",
    "\n",
    "    for imgs, depths in train:\n",
    "        imgs = imgs.to(device)\n",
    "        depths = depths.to(device)\n",
    "        outputs = model(imgs)\n",
    "        optimizer.zero_grad()\n",
    "        loss = criterion(outputs, depths)\n",
    "        loss.backward()\n",
    "        optimizer.step()\n",
    "        train_loss += loss.item()\n",
    "\n",
    "    train_loss /= len(train)\n",
    "\n",
    "    model.eval()\n",
    "    val_loss = 0.0\n",
    "    with torch.no_grad():\n",
    "        for imgs, depths in val:\n",
    "            imgs = imgs.to(device)\n",
    "            depths = depths.to(device)\n",
    "            outputs = model(imgs)\n",
    "            loss = criterion(outputs, depths)\n",
    "            val_loss += loss.item()\n",
    "    val_loss /= len(val)\n",
    "\n",
    "    print(f\"Epoch {epoch + 1}/{num_epochs}, Train Loss: {train_loss:.4f}, Validation Loss: {val_loss:.4f}\")\n",
    "\n",
    "    # Check for improvement\n",
    "    if val_loss < best_val_loss:\n",
    "        print(f\"Validation loss improved from {best_val_loss:.4f} to {val_loss:.4f}. Saving best weights.\")\n",
    "        best_val_loss = val_loss\n",
    "        patience_counter = 0\n",
    "        best_model_weights = copy.deepcopy(model.state_dict())\n",
    "    else:\n",
    "        patience_counter += 1\n",
    "        print(f\"No improvement for {patience_counter} epochs.\")\n",
    "\n",
    "    if patience_counter >= patience:\n",
    "        print(\"Early stopping due to no improvement in validation loss.\")\n",
    "        break\n",
    "\n",
    "    scheduler.step()\n",
    "\n",
    "model.load_state_dict(best_model_weights)\n"
   ]
  },
  {
   "cell_type": "code",
   "execution_count": 17,
   "id": "25220408",
   "metadata": {
    "execution": {
     "iopub.execute_input": "2024-12-14T14:08:19.173828Z",
     "iopub.status.busy": "2024-12-14T14:08:19.173232Z",
     "iopub.status.idle": "2024-12-14T14:08:30.590634Z",
     "shell.execute_reply": "2024-12-14T14:08:30.589928Z"
    },
    "papermill": {
     "duration": 11.427399,
     "end_time": "2024-12-14T14:08:30.592565",
     "exception": false,
     "start_time": "2024-12-14T14:08:19.165166",
     "status": "completed"
    },
    "tags": []
   },
   "outputs": [],
   "source": [
    "image_dir_test = '/kaggle/input/task-3/depth-estimation-challenge/competition-data/competition-data/testing/images'\n",
    "image_files_test = sorted(os.listdir(image_dir_test))\n",
    "\n",
    "imgs_test = []\n",
    "\n",
    "for i in range(len(os.listdir(image_dir_test))):\n",
    "    imgs_test.append(cv2.imread(os.path.join(image_dir_test, image_files_test[i])))\n",
    "\n",
    "imgs_test = np.array(imgs_test)"
   ]
  },
  {
   "cell_type": "code",
   "execution_count": 18,
   "id": "8cdb8ac0",
   "metadata": {
    "execution": {
     "iopub.execute_input": "2024-12-14T14:08:30.609115Z",
     "iopub.status.busy": "2024-12-14T14:08:30.608812Z",
     "iopub.status.idle": "2024-12-14T14:08:30.997126Z",
     "shell.execute_reply": "2024-12-14T14:08:30.996207Z"
    },
    "papermill": {
     "duration": 0.399497,
     "end_time": "2024-12-14T14:08:30.999466",
     "exception": false,
     "start_time": "2024-12-14T14:08:30.599969",
     "status": "completed"
    },
    "tags": []
   },
   "outputs": [],
   "source": [
    "data = [transforms.ToTensor()(imgs_test[i]) for i in range(len(imgs_test))]"
   ]
  },
  {
   "cell_type": "code",
   "execution_count": 19,
   "id": "2e8f428e",
   "metadata": {
    "execution": {
     "iopub.execute_input": "2024-12-14T14:08:31.019450Z",
     "iopub.status.busy": "2024-12-14T14:08:31.018869Z",
     "iopub.status.idle": "2024-12-14T14:08:31.022834Z",
     "shell.execute_reply": "2024-12-14T14:08:31.022078Z"
    },
    "papermill": {
     "duration": 0.014707,
     "end_time": "2024-12-14T14:08:31.024723",
     "exception": false,
     "start_time": "2024-12-14T14:08:31.010016",
     "status": "completed"
    },
    "tags": []
   },
   "outputs": [],
   "source": [
    "test = DataLoader(data, batch_size=4, shuffle=False)"
   ]
  },
  {
   "cell_type": "code",
   "execution_count": 20,
   "id": "d26022df",
   "metadata": {
    "execution": {
     "iopub.execute_input": "2024-12-14T14:08:31.042539Z",
     "iopub.status.busy": "2024-12-14T14:08:31.042278Z",
     "iopub.status.idle": "2024-12-14T14:08:39.398434Z",
     "shell.execute_reply": "2024-12-14T14:08:39.397471Z"
    },
    "papermill": {
     "duration": 8.366569,
     "end_time": "2024-12-14T14:08:39.401028",
     "exception": false,
     "start_time": "2024-12-14T14:08:31.034459",
     "status": "completed"
    },
    "tags": []
   },
   "outputs": [],
   "source": [
    "preds = []\n",
    "with torch.no_grad():\n",
    "    for imgs in test:\n",
    "        imgs = imgs.to(device)\n",
    "        outputs = model(imgs)\n",
    "        preds.extend(outputs.cpu().numpy())"
   ]
  },
  {
   "cell_type": "code",
   "execution_count": 21,
   "id": "8b848714",
   "metadata": {
    "execution": {
     "iopub.execute_input": "2024-12-14T14:08:39.429122Z",
     "iopub.status.busy": "2024-12-14T14:08:39.428754Z",
     "iopub.status.idle": "2024-12-14T14:08:39.504841Z",
     "shell.execute_reply": "2024-12-14T14:08:39.503921Z"
    },
    "papermill": {
     "duration": 0.092441,
     "end_time": "2024-12-14T14:08:39.506915",
     "exception": false,
     "start_time": "2024-12-14T14:08:39.414474",
     "status": "completed"
    },
    "tags": []
   },
   "outputs": [],
   "source": [
    "preds = np.array(preds)"
   ]
  },
  {
   "cell_type": "code",
   "execution_count": 22,
   "id": "4f086e98",
   "metadata": {
    "execution": {
     "iopub.execute_input": "2024-12-14T14:08:39.525550Z",
     "iopub.status.busy": "2024-12-14T14:08:39.525145Z",
     "iopub.status.idle": "2024-12-14T14:08:39.538468Z",
     "shell.execute_reply": "2024-12-14T14:08:39.536631Z"
    },
    "papermill": {
     "duration": 0.025954,
     "end_time": "2024-12-14T14:08:39.540448",
     "exception": false,
     "start_time": "2024-12-14T14:08:39.514494",
     "status": "completed"
    },
    "tags": []
   },
   "outputs": [
    {
     "data": {
      "text/plain": [
       "(836, 1, 256, 256)"
      ]
     },
     "execution_count": 22,
     "metadata": {},
     "output_type": "execute_result"
    }
   ],
   "source": [
    "preds.shape"
   ]
  },
  {
   "cell_type": "code",
   "execution_count": 23,
   "id": "9621a111",
   "metadata": {
    "execution": {
     "iopub.execute_input": "2024-12-14T14:08:39.557796Z",
     "iopub.status.busy": "2024-12-14T14:08:39.557505Z",
     "iopub.status.idle": "2024-12-14T14:08:39.624992Z",
     "shell.execute_reply": "2024-12-14T14:08:39.624101Z"
    },
    "papermill": {
     "duration": 0.077777,
     "end_time": "2024-12-14T14:08:39.627002",
     "exception": false,
     "start_time": "2024-12-14T14:08:39.549225",
     "status": "completed"
    },
    "tags": []
   },
   "outputs": [],
   "source": [
    "preds = (preds * 255).astype(np.uint8)"
   ]
  },
  {
   "cell_type": "code",
   "execution_count": 24,
   "id": "3b337608",
   "metadata": {
    "execution": {
     "iopub.execute_input": "2024-12-14T14:08:39.644119Z",
     "iopub.status.busy": "2024-12-14T14:08:39.643789Z",
     "iopub.status.idle": "2024-12-14T14:08:40.673511Z",
     "shell.execute_reply": "2024-12-14T14:08:40.672794Z"
    },
    "papermill": {
     "duration": 1.039948,
     "end_time": "2024-12-14T14:08:40.675520",
     "exception": false,
     "start_time": "2024-12-14T14:08:39.635572",
     "status": "completed"
    },
    "tags": []
   },
   "outputs": [],
   "source": [
    "output_dir = \"output_images\"\n",
    "os.makedirs(output_dir, exist_ok=True)\n",
    "\n",
    "for idx, img_array in enumerate(preds):\n",
    "    img = img_array.squeeze()\n",
    "    filename = os.path.join(output_dir, f\"image_{idx}.png\")\n",
    "    cv2.imwrite(filename, img)"
   ]
  },
  {
   "cell_type": "code",
   "execution_count": 25,
   "id": "a935b6b2",
   "metadata": {
    "execution": {
     "iopub.execute_input": "2024-12-14T14:08:40.691493Z",
     "iopub.status.busy": "2024-12-14T14:08:40.691210Z",
     "iopub.status.idle": "2024-12-14T14:08:41.217444Z",
     "shell.execute_reply": "2024-12-14T14:08:41.216702Z"
    },
    "papermill": {
     "duration": 0.536368,
     "end_time": "2024-12-14T14:08:41.219400",
     "exception": false,
     "start_time": "2024-12-14T14:08:40.683032",
     "status": "completed"
    },
    "tags": []
   },
   "outputs": [],
   "source": [
    "import zipfile\n",
    "\n",
    "folder_to_zip = \"output_images\"\n",
    "zip_filename = \"zipped_folder.zip\"\n",
    "\n",
    "with zipfile.ZipFile(zip_filename, 'w', zipfile.ZIP_DEFLATED) as zipf:\n",
    "    for root, _, files in os.walk(folder_to_zip):\n",
    "        for file in files:\n",
    "            file_path = os.path.join(root, file)\n",
    "            arcname = os.path.relpath(file_path, folder_to_zip)\n",
    "            zipf.write(file_path, arcname)"
   ]
  },
  {
   "cell_type": "code",
   "execution_count": null,
   "id": "64efdfba",
   "metadata": {
    "papermill": {
     "duration": 0.007376,
     "end_time": "2024-12-14T14:08:41.234257",
     "exception": false,
     "start_time": "2024-12-14T14:08:41.226881",
     "status": "completed"
    },
    "tags": []
   },
   "outputs": [],
   "source": []
  }
 ],
 "metadata": {
  "kaggle": {
   "accelerator": "gpu",
   "dataSources": [
    {
     "datasetId": 6254672,
     "sourceId": 10134608,
     "sourceType": "datasetVersion"
    }
   ],
   "dockerImageVersionId": 30804,
   "isGpuEnabled": true,
   "isInternetEnabled": true,
   "language": "python",
   "sourceType": "notebook"
  },
  "kernelspec": {
   "display_name": "Python 3",
   "language": "python",
   "name": "python3"
  },
  "language_info": {
   "codemirror_mode": {
    "name": "ipython",
    "version": 3
   },
   "file_extension": ".py",
   "mimetype": "text/x-python",
   "name": "python",
   "nbconvert_exporter": "python",
   "pygments_lexer": "ipython3",
   "version": "3.10.14"
  },
  "papermill": {
   "default_parameters": {},
   "duration": 10875.951213,
   "end_time": "2024-12-14T14:08:44.492093",
   "environment_variables": {},
   "exception": null,
   "input_path": "__notebook__.ipynb",
   "output_path": "__notebook__.ipynb",
   "parameters": {},
   "start_time": "2024-12-14T11:07:28.540880",
   "version": "2.6.0"
  }
 },
 "nbformat": 4,
 "nbformat_minor": 5
}
